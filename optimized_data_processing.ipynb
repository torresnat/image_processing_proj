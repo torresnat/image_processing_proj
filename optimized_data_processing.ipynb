{
 "cells": [
  {
   "cell_type": "markdown",
   "id": "a417ae80-11fe-4e09-81db-0177e9dce44b",
   "metadata": {},
   "source": [
    "# Image Classification with CNN"
   ]
  },
  {
   "cell_type": "markdown",
   "id": "e6fda73e-f2ac-40b2-bcbd-cbbfaae89b29",
   "metadata": {},
   "source": [
    "## Data Processing"
   ]
  },
  {
   "cell_type": "markdown",
   "id": "29b95f2a-1fcb-471d-a6d8-3fa7f626c9f8",
   "metadata": {},
   "source": [
    "### Installing Tensorflow."
   ]
  },
  {
   "cell_type": "code",
   "execution_count": 75,
   "id": "37163b52-f956-4742-8e6a-2d058c25fd37",
   "metadata": {},
   "outputs": [
    {
     "ename": "SyntaxError",
     "evalue": "invalid syntax (1723389415.py, line 1)",
     "output_type": "error",
     "traceback": [
      "\u001b[1;36m  Cell \u001b[1;32mIn[75], line 1\u001b[1;36m\u001b[0m\n\u001b[1;33m    pip install tensorflow\u001b[0m\n\u001b[1;37m        ^\u001b[0m\n\u001b[1;31mSyntaxError\u001b[0m\u001b[1;31m:\u001b[0m invalid syntax\n"
     ]
    }
   ],
   "source": [
    "pip install tensorflow\n"
   ]
  },
  {
   "cell_type": "code",
   "execution_count": 77,
   "id": "d158ae99-617a-47c0-b83f-6517b08bba91",
   "metadata": {},
   "outputs": [
    {
     "name": "stdout",
     "output_type": "stream",
     "text": [
      "Requirement already satisfied: mlflow in c:\\users\\torre\\anaconda3\\lib\\site-packages (2.20.0)Note: you may need to restart the kernel to use updated packages.\n",
      "\n",
      "Requirement already satisfied: mlflow-skinny==2.20.0 in c:\\users\\torre\\anaconda3\\lib\\site-packages (from mlflow) (2.20.0)\n",
      "Requirement already satisfied: Flask<4 in c:\\users\\torre\\anaconda3\\lib\\site-packages (from mlflow) (3.0.3)\n",
      "Requirement already satisfied: Jinja2<4,>=3.0 in c:\\users\\torre\\anaconda3\\lib\\site-packages (from mlflow) (3.1.4)\n",
      "Requirement already satisfied: alembic!=1.10.0,<2 in c:\\users\\torre\\anaconda3\\lib\\site-packages (from mlflow) (1.14.1)\n",
      "Requirement already satisfied: docker<8,>=4.0.0 in c:\\users\\torre\\anaconda3\\lib\\site-packages (from mlflow) (7.1.0)\n",
      "Requirement already satisfied: graphene<4 in c:\\users\\torre\\anaconda3\\lib\\site-packages (from mlflow) (3.4.3)\n",
      "Requirement already satisfied: markdown<4,>=3.3 in c:\\users\\torre\\anaconda3\\lib\\site-packages (from mlflow) (3.4.1)\n",
      "Requirement already satisfied: matplotlib<4 in c:\\users\\torre\\anaconda3\\lib\\site-packages (from mlflow) (3.9.2)\n",
      "Requirement already satisfied: numpy<3 in c:\\users\\torre\\anaconda3\\lib\\site-packages (from mlflow) (1.26.4)\n",
      "Requirement already satisfied: pandas<3 in c:\\users\\torre\\anaconda3\\lib\\site-packages (from mlflow) (2.2.2)\n",
      "Requirement already satisfied: pyarrow<19,>=4.0.0 in c:\\users\\torre\\anaconda3\\lib\\site-packages (from mlflow) (16.1.0)\n",
      "Requirement already satisfied: scikit-learn<2 in c:\\users\\torre\\anaconda3\\lib\\site-packages (from mlflow) (1.5.1)\n",
      "Requirement already satisfied: scipy<2 in c:\\users\\torre\\anaconda3\\lib\\site-packages (from mlflow) (1.13.1)\n",
      "Requirement already satisfied: sqlalchemy<3,>=1.4.0 in c:\\users\\torre\\anaconda3\\lib\\site-packages (from mlflow) (2.0.34)\n",
      "Requirement already satisfied: waitress<4 in c:\\users\\torre\\anaconda3\\lib\\site-packages (from mlflow) (3.0.2)\n",
      "Requirement already satisfied: cachetools<6,>=5.0.0 in c:\\users\\torre\\anaconda3\\lib\\site-packages (from mlflow-skinny==2.20.0->mlflow) (5.3.3)\n",
      "Requirement already satisfied: click<9,>=7.0 in c:\\users\\torre\\anaconda3\\lib\\site-packages (from mlflow-skinny==2.20.0->mlflow) (8.1.7)\n",
      "Requirement already satisfied: cloudpickle<4 in c:\\users\\torre\\anaconda3\\lib\\site-packages (from mlflow-skinny==2.20.0->mlflow) (3.0.0)\n",
      "Requirement already satisfied: databricks-sdk<1,>=0.20.0 in c:\\users\\torre\\anaconda3\\lib\\site-packages (from mlflow-skinny==2.20.0->mlflow) (0.41.0)\n",
      "Requirement already satisfied: gitpython<4,>=3.1.9 in c:\\users\\torre\\anaconda3\\lib\\site-packages (from mlflow-skinny==2.20.0->mlflow) (3.1.43)\n",
      "Requirement already satisfied: importlib_metadata!=4.7.0,<9,>=3.7.0 in c:\\users\\torre\\anaconda3\\lib\\site-packages (from mlflow-skinny==2.20.0->mlflow) (7.0.1)\n",
      "Requirement already satisfied: opentelemetry-api<3,>=1.9.0 in c:\\users\\torre\\anaconda3\\lib\\site-packages (from mlflow-skinny==2.20.0->mlflow) (1.29.0)\n",
      "Requirement already satisfied: opentelemetry-sdk<3,>=1.9.0 in c:\\users\\torre\\anaconda3\\lib\\site-packages (from mlflow-skinny==2.20.0->mlflow) (1.29.0)\n",
      "Requirement already satisfied: packaging<25 in c:\\users\\torre\\anaconda3\\lib\\site-packages (from mlflow-skinny==2.20.0->mlflow) (24.1)\n",
      "Requirement already satisfied: protobuf<6,>=3.12.0 in c:\\users\\torre\\anaconda3\\lib\\site-packages (from mlflow-skinny==2.20.0->mlflow) (4.25.3)\n",
      "Requirement already satisfied: pydantic<3,>=1.0 in c:\\users\\torre\\anaconda3\\lib\\site-packages (from mlflow-skinny==2.20.0->mlflow) (2.8.2)\n",
      "Requirement already satisfied: pyyaml<7,>=5.1 in c:\\users\\torre\\anaconda3\\lib\\site-packages (from mlflow-skinny==2.20.0->mlflow) (6.0.1)\n",
      "Requirement already satisfied: requests<3,>=2.17.3 in c:\\users\\torre\\anaconda3\\lib\\site-packages (from mlflow-skinny==2.20.0->mlflow) (2.32.3)\n",
      "Requirement already satisfied: sqlparse<1,>=0.4.0 in c:\\users\\torre\\anaconda3\\lib\\site-packages (from mlflow-skinny==2.20.0->mlflow) (0.5.3)\n",
      "Requirement already satisfied: typing-extensions<5,>=4.0.0 in c:\\users\\torre\\anaconda3\\lib\\site-packages (from mlflow-skinny==2.20.0->mlflow) (4.11.0)\n",
      "Requirement already satisfied: Mako in c:\\users\\torre\\anaconda3\\lib\\site-packages (from alembic!=1.10.0,<2->mlflow) (1.3.8)\n",
      "Requirement already satisfied: pywin32>=304 in c:\\users\\torre\\anaconda3\\lib\\site-packages (from docker<8,>=4.0.0->mlflow) (305.1)\n",
      "Requirement already satisfied: urllib3>=1.26.0 in c:\\users\\torre\\anaconda3\\lib\\site-packages (from docker<8,>=4.0.0->mlflow) (2.2.3)\n",
      "Requirement already satisfied: Werkzeug>=3.0.0 in c:\\users\\torre\\anaconda3\\lib\\site-packages (from Flask<4->mlflow) (3.0.3)\n",
      "Requirement already satisfied: itsdangerous>=2.1.2 in c:\\users\\torre\\anaconda3\\lib\\site-packages (from Flask<4->mlflow) (2.2.0)\n",
      "Requirement already satisfied: blinker>=1.6.2 in c:\\users\\torre\\anaconda3\\lib\\site-packages (from Flask<4->mlflow) (1.6.2)\n",
      "Requirement already satisfied: graphql-core<3.3,>=3.1 in c:\\users\\torre\\anaconda3\\lib\\site-packages (from graphene<4->mlflow) (3.2.5)\n",
      "Requirement already satisfied: graphql-relay<3.3,>=3.1 in c:\\users\\torre\\anaconda3\\lib\\site-packages (from graphene<4->mlflow) (3.2.0)\n",
      "Requirement already satisfied: python-dateutil<3,>=2.7.0 in c:\\users\\torre\\anaconda3\\lib\\site-packages (from graphene<4->mlflow) (2.9.0.post0)\n",
      "Requirement already satisfied: MarkupSafe>=2.0 in c:\\users\\torre\\anaconda3\\lib\\site-packages (from Jinja2<4,>=3.0->mlflow) (2.1.3)\n",
      "Requirement already satisfied: contourpy>=1.0.1 in c:\\users\\torre\\anaconda3\\lib\\site-packages (from matplotlib<4->mlflow) (1.2.0)\n",
      "Requirement already satisfied: cycler>=0.10 in c:\\users\\torre\\anaconda3\\lib\\site-packages (from matplotlib<4->mlflow) (0.11.0)\n",
      "Requirement already satisfied: fonttools>=4.22.0 in c:\\users\\torre\\anaconda3\\lib\\site-packages (from matplotlib<4->mlflow) (4.51.0)\n",
      "Requirement already satisfied: kiwisolver>=1.3.1 in c:\\users\\torre\\anaconda3\\lib\\site-packages (from matplotlib<4->mlflow) (1.4.4)\n",
      "Requirement already satisfied: pillow>=8 in c:\\users\\torre\\anaconda3\\lib\\site-packages (from matplotlib<4->mlflow) (10.4.0)\n",
      "Requirement already satisfied: pyparsing>=2.3.1 in c:\\users\\torre\\anaconda3\\lib\\site-packages (from matplotlib<4->mlflow) (3.1.2)\n",
      "Requirement already satisfied: pytz>=2020.1 in c:\\users\\torre\\anaconda3\\lib\\site-packages (from pandas<3->mlflow) (2024.1)\n",
      "Requirement already satisfied: tzdata>=2022.7 in c:\\users\\torre\\anaconda3\\lib\\site-packages (from pandas<3->mlflow) (2023.3)\n",
      "Requirement already satisfied: joblib>=1.2.0 in c:\\users\\torre\\anaconda3\\lib\\site-packages (from scikit-learn<2->mlflow) (1.4.2)\n",
      "Requirement already satisfied: threadpoolctl>=3.1.0 in c:\\users\\torre\\anaconda3\\lib\\site-packages (from scikit-learn<2->mlflow) (3.5.0)\n",
      "Requirement already satisfied: greenlet!=0.4.17 in c:\\users\\torre\\anaconda3\\lib\\site-packages (from sqlalchemy<3,>=1.4.0->mlflow) (3.0.1)\n",
      "Requirement already satisfied: colorama in c:\\users\\torre\\anaconda3\\lib\\site-packages (from click<9,>=7.0->mlflow-skinny==2.20.0->mlflow) (0.4.6)\n",
      "Requirement already satisfied: google-auth~=2.0 in c:\\users\\torre\\anaconda3\\lib\\site-packages (from databricks-sdk<1,>=0.20.0->mlflow-skinny==2.20.0->mlflow) (2.38.0)\n",
      "Requirement already satisfied: gitdb<5,>=4.0.1 in c:\\users\\torre\\anaconda3\\lib\\site-packages (from gitpython<4,>=3.1.9->mlflow-skinny==2.20.0->mlflow) (4.0.7)\n",
      "Requirement already satisfied: zipp>=0.5 in c:\\users\\torre\\anaconda3\\lib\\site-packages (from importlib_metadata!=4.7.0,<9,>=3.7.0->mlflow-skinny==2.20.0->mlflow) (3.17.0)\n",
      "Requirement already satisfied: deprecated>=1.2.6 in c:\\users\\torre\\anaconda3\\lib\\site-packages (from opentelemetry-api<3,>=1.9.0->mlflow-skinny==2.20.0->mlflow) (1.2.15)\n",
      "Requirement already satisfied: opentelemetry-semantic-conventions==0.50b0 in c:\\users\\torre\\anaconda3\\lib\\site-packages (from opentelemetry-sdk<3,>=1.9.0->mlflow-skinny==2.20.0->mlflow) (0.50b0)\n",
      "Requirement already satisfied: annotated-types>=0.4.0 in c:\\users\\torre\\anaconda3\\lib\\site-packages (from pydantic<3,>=1.0->mlflow-skinny==2.20.0->mlflow) (0.6.0)\n",
      "Requirement already satisfied: pydantic-core==2.20.1 in c:\\users\\torre\\anaconda3\\lib\\site-packages (from pydantic<3,>=1.0->mlflow-skinny==2.20.0->mlflow) (2.20.1)\n",
      "Requirement already satisfied: six>=1.5 in c:\\users\\torre\\anaconda3\\lib\\site-packages (from python-dateutil<3,>=2.7.0->graphene<4->mlflow) (1.16.0)\n",
      "Requirement already satisfied: charset-normalizer<4,>=2 in c:\\users\\torre\\anaconda3\\lib\\site-packages (from requests<3,>=2.17.3->mlflow-skinny==2.20.0->mlflow) (3.3.2)\n",
      "Requirement already satisfied: idna<4,>=2.5 in c:\\users\\torre\\anaconda3\\lib\\site-packages (from requests<3,>=2.17.3->mlflow-skinny==2.20.0->mlflow) (3.7)\n",
      "Requirement already satisfied: certifi>=2017.4.17 in c:\\users\\torre\\anaconda3\\lib\\site-packages (from requests<3,>=2.17.3->mlflow-skinny==2.20.0->mlflow) (2024.8.30)\n",
      "Requirement already satisfied: wrapt<2,>=1.10 in c:\\users\\torre\\anaconda3\\lib\\site-packages (from deprecated>=1.2.6->opentelemetry-api<3,>=1.9.0->mlflow-skinny==2.20.0->mlflow) (1.14.1)\n",
      "Requirement already satisfied: smmap<5,>=3.0.1 in c:\\users\\torre\\anaconda3\\lib\\site-packages (from gitdb<5,>=4.0.1->gitpython<4,>=3.1.9->mlflow-skinny==2.20.0->mlflow) (4.0.0)\n",
      "Requirement already satisfied: pyasn1-modules>=0.2.1 in c:\\users\\torre\\anaconda3\\lib\\site-packages (from google-auth~=2.0->databricks-sdk<1,>=0.20.0->mlflow-skinny==2.20.0->mlflow) (0.2.8)\n",
      "Requirement already satisfied: rsa<5,>=3.1.4 in c:\\users\\torre\\anaconda3\\lib\\site-packages (from google-auth~=2.0->databricks-sdk<1,>=0.20.0->mlflow-skinny==2.20.0->mlflow) (4.9)\n",
      "Requirement already satisfied: pyasn1<0.5.0,>=0.4.6 in c:\\users\\torre\\anaconda3\\lib\\site-packages (from pyasn1-modules>=0.2.1->google-auth~=2.0->databricks-sdk<1,>=0.20.0->mlflow-skinny==2.20.0->mlflow) (0.4.8)\n"
     ]
    }
   ],
   "source": [
    "pip install mlflow"
   ]
  },
  {
   "cell_type": "markdown",
   "id": "969702d6-b0c0-4ce5-8376-c2f715c6bb3a",
   "metadata": {},
   "source": [
    "### Importing libraries I need."
   ]
  },
  {
   "cell_type": "code",
   "execution_count": 82,
   "id": "d5a837f0-1648-4ca8-b353-c1a8aa8a3048",
   "metadata": {},
   "outputs": [],
   "source": [
    "import tensorflow as tf\n",
    "from tensorflow.keras import datasets, layers, models\n",
    "import matplotlib.pyplot as plt\n",
    "import numpy as np\n",
    "from tensorflow.keras.callbacks import EarlyStopping\n",
    "from tensorflow.keras.utils import to_categorical\n",
    "from sklearn.metrics import classification_report, confusion_matrix, accuracy_score\n",
    "import seaborn as sns\n",
    "import mlflow\n",
    "import mlflow.sklearn"
   ]
  },
  {
   "cell_type": "markdown",
   "id": "fdace80f-e741-44e9-a793-ff7a162afd42",
   "metadata": {},
   "source": [
    "### A little bit of data exploration. Verifying the shape of the data. "
   ]
  },
  {
   "cell_type": "code",
   "execution_count": 8,
   "id": "92fffb10-7f99-4f3d-bdfd-67de76a45937",
   "metadata": {},
   "outputs": [
    {
     "data": {
      "text/plain": [
       "(50000, 32, 32, 3)"
      ]
     },
     "execution_count": 8,
     "metadata": {},
     "output_type": "execute_result"
    }
   ],
   "source": [
    "(X_train, y_train), (X_test,y_test) = datasets.cifar10.load_data()\n",
    "X_train.shape"
   ]
  },
  {
   "cell_type": "markdown",
   "id": "1b42d807-b7dc-4cd9-a480-01c501ef9a49",
   "metadata": {},
   "source": [
    "### Identifying the classes in the data set!"
   ]
  },
  {
   "cell_type": "code",
   "execution_count": 11,
   "id": "8cb611b7-438a-427a-9c9e-805e0daf68ee",
   "metadata": {},
   "outputs": [],
   "source": [
    "classes = [\"airplane\",\"automobile\",\"bird\",\"cat\",\"deer\",\"dog\",\"frog\",\"horse\",\"ship\",\"truck\"]"
   ]
  },
  {
   "cell_type": "markdown",
   "id": "2fc3bf0e-4181-44a1-82f7-3863ee9e4c7b",
   "metadata": {},
   "source": [
    "### Reshaping the y_train for better modeling."
   ]
  },
  {
   "cell_type": "code",
   "execution_count": 14,
   "id": "00b45b7f-4411-4453-99bd-138c16393081",
   "metadata": {},
   "outputs": [],
   "source": [
    "y_train = y_train.reshape(-1,)\n",
    "y_train[:5]\n",
    "y_train = to_categorical(y_train, 10)\n",
    "y_test = to_categorical(y_test, 10)"
   ]
  },
  {
   "cell_type": "markdown",
   "id": "2e460743-40a1-4248-a8d7-0dbdf5ccbd8b",
   "metadata": {},
   "source": [
    "### Preparing plot samples for the training."
   ]
  },
  {
   "cell_type": "code",
   "execution_count": 17,
   "id": "fe397f8d-b824-4924-b85e-7538b35ec27b",
   "metadata": {},
   "outputs": [],
   "source": [
    "def plot_sample(X, y, index):\n",
    "    plt.figure(figsize=(15, 2))\n",
    "    plt.imshow(X[index])\n",
    "    \n",
    "    label_index = y[index] if isinstance(y[index], int) else np.argmax(y[index])\n",
    "    \n",
    "    plt.xlabel(classes[label_index])  \n",
    "    plt.show()"
   ]
  },
  {
   "cell_type": "code",
   "execution_count": 19,
   "id": "6a283639-919b-429d-92f6-9b1dca80e874",
   "metadata": {},
   "outputs": [
    {
     "data": {
      "image/png": "[encoded data removed]",
      "text/plain": [
       "<Figure size 1500x200 with 1 Axes>"
      ]
     },
     "metadata": {},
     "output_type": "display_data"
    }
   ],
   "source": [
    "plot_sample(X_train, y_train, 0)"
   ]
  },
  {
   "cell_type": "markdown",
   "id": "bf72d916-18ba-4ce8-9a5d-c9440df9e394",
   "metadata": {},
   "source": [
    "## Starting the training!"
   ]
  },
  {
   "cell_type": "code",
   "execution_count": 22,
   "id": "352af7d0-6b59-4d32-b71b-5e949e27816f",
   "metadata": {},
   "outputs": [],
   "source": [
    "X_train = X_train / 255.0\n",
    "X_test = X_test / 255.0"
   ]
  },
  {
   "cell_type": "code",
   "execution_count": 24,
   "id": "965fbc99-81dd-4e8c-b66e-14b43a084926",
   "metadata": {},
   "outputs": [
    {
     "data": {
      "text/html": [
       "<pre style=\"white-space:pre;overflow-x:auto;line-height:normal;font-family:Menlo,'DejaVu Sans Mono',consolas,'Courier New',monospace\"><span style=\"font-weight: bold\">Model: \"sequential\"</span>\n",
       "</pre>\n"
      ],
      "text/plain": [
       "\u001b[1mModel: \"sequential\"\u001b[0m\n"
      ]
     },
     "metadata": {},
     "output_type": "display_data"
    },
    {
     "data": {
      "text/html": [
       "<pre style=\"white-space:pre;overflow-x:auto;line-height:normal;font-family:Menlo,'DejaVu Sans Mono',consolas,'Courier New',monospace\">┏━━━━━━━━━━━━━━━━━━━━━━━━━━━━━━━━━┳━━━━━━━━━━━━━━━━━━━━━━━━┳━━━━━━━━━━━━━━━┓\n",
       "┃<span style=\"font-weight: bold\"> Layer (type)                    </span>┃<span style=\"font-weight: bold\"> Output Shape           </span>┃<span style=\"font-weight: bold\">       Param # </span>┃\n",
       "┡━━━━━━━━━━━━━━━━━━━━━━━━━━━━━━━━━╇━━━━━━━━━━━━━━━━━━━━━━━━╇━━━━━━━━━━━━━━━┩\n",
       "│ conv2d (<span style=\"color: #0087ff; text-decoration-color: #0087ff\">Conv2D</span>)                 │ (<span style=\"color: #00d7ff; text-decoration-color: #00d7ff\">None</span>, <span style=\"color: #00af00; text-decoration-color: #00af00\">30</span>, <span style=\"color: #00af00; text-decoration-color: #00af00\">30</span>, <span style=\"color: #00af00; text-decoration-color: #00af00\">32</span>)     │           <span style=\"color: #00af00; text-decoration-color: #00af00\">896</span> │\n",
       "├─────────────────────────────────┼────────────────────────┼───────────────┤\n",
       "│ max_pooling2d (<span style=\"color: #0087ff; text-decoration-color: #0087ff\">MaxPooling2D</span>)    │ (<span style=\"color: #00d7ff; text-decoration-color: #00d7ff\">None</span>, <span style=\"color: #00af00; text-decoration-color: #00af00\">15</span>, <span style=\"color: #00af00; text-decoration-color: #00af00\">15</span>, <span style=\"color: #00af00; text-decoration-color: #00af00\">32</span>)     │             <span style=\"color: #00af00; text-decoration-color: #00af00\">0</span> │\n",
       "├─────────────────────────────────┼────────────────────────┼───────────────┤\n",
       "│ conv2d_1 (<span style=\"color: #0087ff; text-decoration-color: #0087ff\">Conv2D</span>)               │ (<span style=\"color: #00d7ff; text-decoration-color: #00d7ff\">None</span>, <span style=\"color: #00af00; text-decoration-color: #00af00\">13</span>, <span style=\"color: #00af00; text-decoration-color: #00af00\">13</span>, <span style=\"color: #00af00; text-decoration-color: #00af00\">64</span>)     │        <span style=\"color: #00af00; text-decoration-color: #00af00\">18,496</span> │\n",
       "├─────────────────────────────────┼────────────────────────┼───────────────┤\n",
       "│ max_pooling2d_1 (<span style=\"color: #0087ff; text-decoration-color: #0087ff\">MaxPooling2D</span>)  │ (<span style=\"color: #00d7ff; text-decoration-color: #00d7ff\">None</span>, <span style=\"color: #00af00; text-decoration-color: #00af00\">6</span>, <span style=\"color: #00af00; text-decoration-color: #00af00\">6</span>, <span style=\"color: #00af00; text-decoration-color: #00af00\">64</span>)       │             <span style=\"color: #00af00; text-decoration-color: #00af00\">0</span> │\n",
       "├─────────────────────────────────┼────────────────────────┼───────────────┤\n",
       "│ flatten (<span style=\"color: #0087ff; text-decoration-color: #0087ff\">Flatten</span>)               │ (<span style=\"color: #00d7ff; text-decoration-color: #00d7ff\">None</span>, <span style=\"color: #00af00; text-decoration-color: #00af00\">2304</span>)           │             <span style=\"color: #00af00; text-decoration-color: #00af00\">0</span> │\n",
       "├─────────────────────────────────┼────────────────────────┼───────────────┤\n",
       "│ dense (<span style=\"color: #0087ff; text-decoration-color: #0087ff\">Dense</span>)                   │ (<span style=\"color: #00d7ff; text-decoration-color: #00d7ff\">None</span>, <span style=\"color: #00af00; text-decoration-color: #00af00\">64</span>)             │       <span style=\"color: #00af00; text-decoration-color: #00af00\">147,520</span> │\n",
       "├─────────────────────────────────┼────────────────────────┼───────────────┤\n",
       "│ dense_1 (<span style=\"color: #0087ff; text-decoration-color: #0087ff\">Dense</span>)                 │ (<span style=\"color: #00d7ff; text-decoration-color: #00d7ff\">None</span>, <span style=\"color: #00af00; text-decoration-color: #00af00\">10</span>)             │           <span style=\"color: #00af00; text-decoration-color: #00af00\">650</span> │\n",
       "└─────────────────────────────────┴────────────────────────┴───────────────┘\n",
       "</pre>\n"
      ],
      "text/plain": [
       "┏━━━━━━━━━━━━━━━━━━━━━━━━━━━━━━━━━┳━━━━━━━━━━━━━━━━━━━━━━━━┳━━━━━━━━━━━━━━━┓\n",
       "┃\u001b[1m \u001b[0m\u001b[1mLayer (type)                   \u001b[0m\u001b[1m \u001b[0m┃\u001b[1m \u001b[0m\u001b[1mOutput Shape          \u001b[0m\u001b[1m \u001b[0m┃\u001b[1m \u001b[0m\u001b[1m      Param #\u001b[0m\u001b[1m \u001b[0m┃\n",
       "┡━━━━━━━━━━━━━━━━━━━━━━━━━━━━━━━━━╇━━━━━━━━━━━━━━━━━━━━━━━━╇━━━━━━━━━━━━━━━┩\n",
       "│ conv2d (\u001b[38;5;33mConv2D\u001b[0m)                 │ (\u001b[38;5;45mNone\u001b[0m, \u001b[38;5;34m30\u001b[0m, \u001b[38;5;34m30\u001b[0m, \u001b[38;5;34m32\u001b[0m)     │           \u001b[38;5;34m896\u001b[0m │\n",
       "├─────────────────────────────────┼────────────────────────┼───────────────┤\n",
       "│ max_pooling2d (\u001b[38;5;33mMaxPooling2D\u001b[0m)    │ (\u001b[38;5;45mNone\u001b[0m, \u001b[38;5;34m15\u001b[0m, \u001b[38;5;34m15\u001b[0m, \u001b[38;5;34m32\u001b[0m)     │             \u001b[38;5;34m0\u001b[0m │\n",
       "├─────────────────────────────────┼────────────────────────┼───────────────┤\n",
       "│ conv2d_1 (\u001b[38;5;33mConv2D\u001b[0m)               │ (\u001b[38;5;45mNone\u001b[0m, \u001b[38;5;34m13\u001b[0m, \u001b[38;5;34m13\u001b[0m, \u001b[38;5;34m64\u001b[0m)     │        \u001b[38;5;34m18,496\u001b[0m │\n",
       "├─────────────────────────────────┼────────────────────────┼───────────────┤\n",
       "│ max_pooling2d_1 (\u001b[38;5;33mMaxPooling2D\u001b[0m)  │ (\u001b[38;5;45mNone\u001b[0m, \u001b[38;5;34m6\u001b[0m, \u001b[38;5;34m6\u001b[0m, \u001b[38;5;34m64\u001b[0m)       │             \u001b[38;5;34m0\u001b[0m │\n",
       "├─────────────────────────────────┼────────────────────────┼───────────────┤\n",
       "│ flatten (\u001b[38;5;33mFlatten\u001b[0m)               │ (\u001b[38;5;45mNone\u001b[0m, \u001b[38;5;34m2304\u001b[0m)           │             \u001b[38;5;34m0\u001b[0m │\n",
       "├─────────────────────────────────┼────────────────────────┼───────────────┤\n",
       "│ dense (\u001b[38;5;33mDense\u001b[0m)                   │ (\u001b[38;5;45mNone\u001b[0m, \u001b[38;5;34m64\u001b[0m)             │       \u001b[38;5;34m147,520\u001b[0m │\n",
       "├─────────────────────────────────┼────────────────────────┼───────────────┤\n",
       "│ dense_1 (\u001b[38;5;33mDense\u001b[0m)                 │ (\u001b[38;5;45mNone\u001b[0m, \u001b[38;5;34m10\u001b[0m)             │           \u001b[38;5;34m650\u001b[0m │\n",
       "└─────────────────────────────────┴────────────────────────┴───────────────┘\n"
      ]
     },
     "metadata": {},
     "output_type": "display_data"
    },
    {
     "data": {
      "text/html": [
       "<pre style=\"white-space:pre;overflow-x:auto;line-height:normal;font-family:Menlo,'DejaVu Sans Mono',consolas,'Courier New',monospace\"><span style=\"font-weight: bold\"> Total params: </span><span style=\"color: #00af00; text-decoration-color: #00af00\">167,562</span> (654.54 KB)\n",
       "</pre>\n"
      ],
      "text/plain": [
       "\u001b[1m Total params: \u001b[0m\u001b[38;5;34m167,562\u001b[0m (654.54 KB)\n"
      ]
     },
     "metadata": {},
     "output_type": "display_data"
    },
    {
     "data": {
      "text/html": [
       "<pre style=\"white-space:pre;overflow-x:auto;line-height:normal;font-family:Menlo,'DejaVu Sans Mono',consolas,'Courier New',monospace\"><span style=\"font-weight: bold\"> Trainable params: </span><span style=\"color: #00af00; text-decoration-color: #00af00\">167,562</span> (654.54 KB)\n",
       "</pre>\n"
      ],
      "text/plain": [
       "\u001b[1m Trainable params: \u001b[0m\u001b[38;5;34m167,562\u001b[0m (654.54 KB)\n"
      ]
     },
     "metadata": {},
     "output_type": "display_data"
    },
    {
     "data": {
      "text/html": [
       "<pre style=\"white-space:pre;overflow-x:auto;line-height:normal;font-family:Menlo,'DejaVu Sans Mono',consolas,'Courier New',monospace\"><span style=\"font-weight: bold\"> Non-trainable params: </span><span style=\"color: #00af00; text-decoration-color: #00af00\">0</span> (0.00 B)\n",
       "</pre>\n"
      ],
      "text/plain": [
       "\u001b[1m Non-trainable params: \u001b[0m\u001b[38;5;34m0\u001b[0m (0.00 B)\n"
      ]
     },
     "metadata": {},
     "output_type": "display_data"
    }
   ],
   "source": [
    "cnn = models.Sequential([\n",
    "    layers.Input(shape=(32, 32, 3)),\n",
    "    layers.Conv2D(filters=32, kernel_size=(3, 3), activation='relu'),\n",
    "    layers.MaxPooling2D((2, 2)),\n",
    "    \n",
    "    layers.Conv2D(filters=64, kernel_size=(3, 3), activation='relu'),\n",
    "    layers.MaxPooling2D((2, 2)),\n",
    "    \n",
    "    layers.Flatten(),\n",
    "    layers.Dense(64, activation='relu'),\n",
    "    layers.Dense(10, activation='softmax')\n",
    "])\n",
    "cnn.summary()"
   ]
  },
  {
   "cell_type": "markdown",
   "id": "73d3204d-e383-4b92-b2da-3dd19c3d4de1",
   "metadata": {},
   "source": [
    "### Chose Adam for optimizer. "
   ]
  },
  {
   "cell_type": "code",
   "execution_count": 27,
   "id": "c924b30a-7d80-4ed8-8e0c-29ca654be46f",
   "metadata": {},
   "outputs": [],
   "source": [
    "cnn.compile(\n",
    "    optimizer='adam',\n",
    "    loss='categorical_crossentropy',\n",
    "    metrics=['accuracy']\n",
    ")"
   ]
  },
  {
   "cell_type": "markdown",
   "id": "44c25de6-6f3c-49f7-8a67-481c3c64579f",
   "metadata": {},
   "source": [
    "### Early stopping."
   ]
  },
  {
   "cell_type": "code",
   "execution_count": 30,
   "id": "cf380f93-b00c-4ea5-afb3-650d32ccea66",
   "metadata": {},
   "outputs": [],
   "source": [
    "early_stopping = EarlyStopping(\n",
    "    monitor='val_loss', \n",
    "    patience=5,         \n",
    "    restore_best_weights=True\n",
    ")"
   ]
  },
  {
   "cell_type": "markdown",
   "id": "84625272-8b83-4a01-b02f-03522c6ab389",
   "metadata": {},
   "source": [
    "### Oficially training!"
   ]
  },
  {
   "cell_type": "code",
   "execution_count": 33,
   "id": "09e2a4d9-b052-41c6-9203-4216fc498b7b",
   "metadata": {},
   "outputs": [
    {
     "name": "stdout",
     "output_type": "stream",
     "text": [
      "625/625 - 22s - 35ms/step - accuracy: 0.4402 - loss: 1.5512 - val_accuracy: 0.5482 - val_loss: 1.2915\n"
     ]
    }
   ],
   "source": [
    "history = cnn.fit(\n",
    "    X_train, y_train,                  \n",
    "    validation_split=0.2,              \n",
    "    epochs=1,                         \n",
    "    batch_size=64,                     \n",
    "    callbacks=[early_stopping],        \n",
    "    verbose=2                          \n",
    ")"
   ]
  },
  {
   "cell_type": "code",
   "execution_count": 35,
   "id": "8b53691e-99f2-4918-af8c-ddc0287087c9",
   "metadata": {},
   "outputs": [
    {
     "name": "stdout",
     "output_type": "stream",
     "text": [
      "\u001b[1m313/313\u001b[0m \u001b[32m━━━━━━━━━━━━━━━━━━━━\u001b[0m\u001b[37m\u001b[0m \u001b[1m3s\u001b[0m 11ms/step\n"
     ]
    },
    {
     "data": {
      "text/plain": [
       "array([[1.6051186e-02, 3.7761810e-03, 6.8776369e-02, 6.0764742e-01,\n",
       "        1.5654923e-02, 1.3442245e-01, 1.1452844e-01, 1.2247746e-02,\n",
       "        2.0640058e-02, 6.2552504e-03],\n",
       "       [2.0123488e-01, 1.8022321e-01, 3.3489766e-04, 6.7270994e-05,\n",
       "        6.8493006e-05, 3.1399427e-06, 1.3446534e-04, 9.3615836e-06,\n",
       "        5.6554693e-01, 5.2377287e-02],\n",
       "       [2.2090767e-01, 2.2925392e-01, 8.8005392e-03, 4.7196290e-03,\n",
       "        2.8279689e-03, 1.0710272e-03, 2.1346519e-03, 2.5962563e-03,\n",
       "        4.3699226e-01, 9.0696178e-02],\n",
       "       [3.7965351e-01, 2.4048228e-02, 4.6455618e-03, 1.3290688e-03,\n",
       "        2.1354205e-03, 1.1322630e-04, 1.4081073e-03, 6.0073903e-04,\n",
       "        5.6807506e-01, 1.7991053e-02],\n",
       "       [2.5167256e-03, 2.3893320e-03, 8.6943112e-02, 1.2479517e-01,\n",
       "        3.6097133e-01, 4.7457259e-02, 3.6242855e-01, 8.7409606e-03,\n",
       "        2.2934461e-03, 1.4641412e-03]], dtype=float32)"
      ]
     },
     "execution_count": 35,
     "metadata": {},
     "output_type": "execute_result"
    }
   ],
   "source": [
    "y_pred = cnn.predict(X_test)\n",
    "y_pred[:5]"
   ]
  },
  {
   "cell_type": "code",
   "execution_count": 37,
   "id": "62d80413-d99a-42b8-97f9-8f0a985af3bc",
   "metadata": {},
   "outputs": [
    {
     "name": "stdout",
     "output_type": "stream",
     "text": [
      "313/313 - 2s - 8ms/step - accuracy: 0.5536 - loss: 1.2806\n",
      "Test Loss: 1.2806, Test Accuracy: 0.5536\n"
     ]
    }
   ],
   "source": [
    "test_loss, test_accuracy = cnn.evaluate(X_test, y_test, verbose=2)\n",
    "print(f\"Test Loss: {test_loss:.4f}, Test Accuracy: {test_accuracy:.4f}\")"
   ]
  },
  {
   "cell_type": "markdown",
   "id": "6a8ac1f4-c308-4b1f-a916-7a4a1bbe5d53",
   "metadata": {},
   "source": [
    "## Accuracy:"
   ]
  },
  {
   "cell_type": "markdown",
   "id": "965c4973-5861-4ff3-83dc-abbfd144a2ab",
   "metadata": {},
   "source": [
    "### We have an accuracy of 68% and a test loss of 95%."
   ]
  },
  {
   "cell_type": "code",
   "execution_count": 41,
   "id": "30b48b25-c1d5-4b0c-afe9-2e8bbd114605",
   "metadata": {},
   "outputs": [
    {
     "name": "stdout",
     "output_type": "stream",
     "text": [
      "\u001b[1m313/313\u001b[0m \u001b[32m━━━━━━━━━━━━━━━━━━━━\u001b[0m\u001b[37m\u001b[0m \u001b[1m2s\u001b[0m 6ms/step\n"
     ]
    }
   ],
   "source": [
    "y_pred_probs = cnn.predict(X_test)\n",
    "\n",
    "y_pred = np.argmax(y_pred_probs, axis=1)\n",
    "y_true = np.argmax(y_test, axis=1)"
   ]
  },
  {
   "cell_type": "markdown",
   "id": "c853c943-4252-4bb5-9dad-0b37581899c9",
   "metadata": {},
   "source": [
    "## Compute metrics."
   ]
  },
  {
   "cell_type": "code",
   "execution_count": 44,
   "id": "de554fc5-d73c-43ac-a96c-dc921fcd10ba",
   "metadata": {},
   "outputs": [
    {
     "name": "stdout",
     "output_type": "stream",
     "text": [
      "Classification Report:\n",
      "              precision    recall  f1-score   support\n",
      "\n",
      "    airplane       0.56      0.60      0.58      1000\n",
      "  automobile       0.68      0.68      0.68      1000\n",
      "        bird       0.52      0.31      0.39      1000\n",
      "         cat       0.41      0.44      0.42      1000\n",
      "        deer       0.49      0.45      0.47      1000\n",
      "         dog       0.53      0.45      0.49      1000\n",
      "        frog       0.61      0.63      0.62      1000\n",
      "       horse       0.50      0.74      0.60      1000\n",
      "        ship       0.58      0.68      0.63      1000\n",
      "       truck       0.67      0.56      0.61      1000\n",
      "\n",
      "    accuracy                           0.55     10000\n",
      "   macro avg       0.56      0.55      0.55     10000\n",
      "weighted avg       0.56      0.55      0.55     10000\n",
      "\n",
      "Accuracy: 0.5536\n"
     ]
    }
   ],
   "source": [
    "print(\"Classification Report:\")\n",
    "print(classification_report(y_true, y_pred, target_names=classes))\n",
    "\n",
    "print(\"Accuracy:\", accuracy_score(y_true, y_pred))"
   ]
  },
  {
   "cell_type": "markdown",
   "id": "c34212ea-b52a-4505-a1b8-2ae4857ac6df",
   "metadata": {},
   "source": [
    "## Visualizing the Confusion Matrix!"
   ]
  },
  {
   "cell_type": "code",
   "execution_count": 47,
   "id": "6a2d29cb-6f28-4c5f-9b3a-78568243571d",
   "metadata": {},
   "outputs": [
    {
     "data": {
      "image/png": "[encoded data removed]",
      "text/plain": [
       "<Figure size 1200x800 with 2 Axes>"
      ]
     },
     "metadata": {},
     "output_type": "display_data"
    }
   ],
   "source": [
    "cm = confusion_matrix(y_true, y_pred)\n",
    "\n",
    "plt.figure(figsize=(12, 8))\n",
    "sns.heatmap(cm, annot=True, fmt='d', cmap='Blues', xticklabels=classes, yticklabels=classes)\n",
    "plt.title(\"Confusion Matrix\")\n",
    "plt.xlabel(\"Predicted Label\")\n",
    "plt.ylabel(\"True Label\")\n",
    "plt.show()"
   ]
  },
  {
   "cell_type": "markdown",
   "id": "ac802172-d740-4963-8ab0-003494c32bd0",
   "metadata": {},
   "source": [
    "## Transfer Learning"
   ]
  },
  {
   "cell_type": "markdown",
   "id": "3d8b41bb-0c3e-4b3a-a1e6-47e87eabd40a",
   "metadata": {},
   "source": [
    "### In this section I will be doing the transfer learning. I chose VGG16, because it's well-suited for image classification tasks like CIFAR-100 due to its simplicity and effectiveness.\n",
    "\n"
   ]
  },
  {
   "cell_type": "code",
   "execution_count": 51,
   "id": "b084e91f-3d41-4196-8330-2e73ecb649ca",
   "metadata": {},
   "outputs": [],
   "source": [
    "from tensorflow.keras.applications import VGG16\n",
    "from tensorflow.keras.models import Sequential\n",
    "from tensorflow.keras.layers import Flatten, Dense, Dropout, Input\n",
    "from tensorflow.keras.optimizers import Adam\n",
    "from tensorflow.keras import Sequential\n",
    "from tensorflow.keras.layers import Input, Resizing, Conv2D, Flatten, Dense\n",
    "\n",
    "base_model = VGG16(weights='imagenet', include_top=False, input_shape=(224, 224, 3))"
   ]
  },
  {
   "cell_type": "code",
   "execution_count": 53,
   "id": "1d1270ee-cdd2-4e53-9ebe-37fe1c34752a",
   "metadata": {},
   "outputs": [],
   "source": [
    "for layer in base_model.layers:\n",
    "    layer.trainable = False"
   ]
  },
  {
   "cell_type": "code",
   "execution_count": 55,
   "id": "003474de-e80f-45fb-9275-1674ac56eb3f",
   "metadata": {},
   "outputs": [],
   "source": [
    "model = Sequential([\n",
    "    base_model,  # Pre-trained VGG16\n",
    "    Flatten(),\n",
    "    Dense(256, activation='relu'),  # Custom dense layer\n",
    "    Dropout(0.5),                   # Dropout to prevent overfitting\n",
    "    Dense(10, activation='softmax')  # Final layer for 10 classes (e.g., CIFAR-10)\n",
    "])"
   ]
  },
  {
   "cell_type": "code",
   "execution_count": 57,
   "id": "a552a47f-c3aa-43e0-b8c0-239b08d256d4",
   "metadata": {},
   "outputs": [],
   "source": [
    "import numpy as np\n",
    "import tensorflow as tf\n",
    "\n",
    "def preprocess_and_save(images, target_size, batch_size, output_file):\n",
    "    with open(output_file, 'wb') as f:\n",
    "        for i in range(0, len(images), batch_size):\n",
    "            batch = images[i:i + batch_size]\n",
    "            resized_batch = [tf.image.resize(img, target_size).numpy() for img in batch]\n",
    "            np.save(f, resized_batch)\n",
    "\n",
    "# Use smaller batch sizes\n",
    "batch_size = 1000\n",
    "preprocess_and_save(X_train, (224, 224), batch_size, \"X_train_resized.npy\")\n",
    "preprocess_and_save(X_test, (224, 224), batch_size, \"X_test_resized.npy\")\n",
    "# Optimize resizing by processing in smaller batches\n",
    "batch_size = 16\n"
   ]
  },
  {
   "cell_type": "code",
   "execution_count": 59,
   "id": "51018a0b-16da-4d3d-8b3b-9e7433eaba8e",
   "metadata": {},
   "outputs": [],
   "source": [
    "from tensorflow.keras.applications import VGG16\n",
    "from tensorflow.keras.models import Sequential\n",
    "from tensorflow.keras.layers import Flatten, Dense, Dropout\n",
    "\n",
    "base_model = VGG16(weights='imagenet', include_top=False, input_shape=(224, 224, 3))\n",
    "\n",
    "model = Sequential([\n",
    "    base_model,\n",
    "    Flatten(),\n",
    "    Dense(64, activation='relu'),  # Reduced number of neurons\n",
    "    Dense(10, activation='softmax')  # 10 classes\n",
    "])"
   ]
  },
  {
   "cell_type": "code",
   "execution_count": 63,
   "id": "b2eceb5e-9130-4670-91ac-f6cfefd107c8",
   "metadata": {},
   "outputs": [],
   "source": [
    "def preprocess(image, label):\n",
    "    image = tf.image.resize(image, (224, 224))\n",
    "    if image.shape[-1] != 3: \n",
    "        image = tf.image.grayscale_to_rgb(image)\n",
    "    image = image / 255.0\n",
    "    return image, label\n",
    "\n",
    "train_dataset = tf.data.Dataset.from_tensor_slices((X_train, y_train))\n",
    "test_dataset = tf.data.Dataset.from_tensor_slices((X_test, y_test))\n",
    "\n",
    "# Take smaller subsets for memory efficiency\n",
    "small_train_dataset = train_dataset.take(100)  # Use only 100 samples for training\n",
    "small_test_dataset = test_dataset.take(50)    # Use only 50 samples for testing\n",
    "\n",
    "# Apply batching\n",
    "small_train_dataset = small_train_dataset.batch(16)  # Reduced batch size\n",
    "small_test_dataset = small_test_dataset.batch(16)\n"
   ]
  },
  {
   "cell_type": "code",
   "execution_count": 65,
   "id": "57f88abc-4d46-4f18-8286-f7cd75483ff0",
   "metadata": {},
   "outputs": [],
   "source": [
    "# Define the model with an Input layer\n",
    "model = Sequential([\n",
    "    Input(shape=(32, 32, 3)),           # Specify the input shape\n",
    "    Resizing(224, 224),                # Resize images to (224, 224)\n",
    "    Conv2D(32, (3, 3), activation='relu'),\n",
    "    Flatten(),\n",
    "    Dense(10, activation='softmax')    # Example output layer for 10 classes\n",
    "])\n",
    "\n",
    "# Compile the model\n",
    "model.compile(\n",
    "    optimizer='adam',\n",
    "    loss='categorical_crossentropy',\n",
    "    metrics=['accuracy']\n",
    ")"
   ]
  },
  {
   "cell_type": "code",
   "execution_count": 67,
   "id": "856940d7-9339-4e10-8f6d-af4b9e08c5ae",
   "metadata": {},
   "outputs": [],
   "source": [
    "def save_preprocessed_batches(X, y, batch_size, prefix):\n",
    "    for i in range(0, len(X), batch_size):\n",
    "        X_batch = X[i:i+batch_size]\n",
    "        y_batch = y[i:i+batch_size]\n",
    "        np.save(f'{prefix}_X_batch_{i}.npy', X_batch)\n",
    "        np.save(f'{prefix}_y_batch_{i}.npy', y_batch)\n",
    "\n",
    "save_preprocessed_batches(X_train, y_train, batch_size=1000, prefix='train')\n",
    "save_preprocessed_batches(X_test, y_test, batch_size=1000, prefix='test')\n",
    "\n",
    "# Load the preprocessed batches during training\n",
    "def load_batch(prefix, batch_idx):\n",
    "    X_batch = np.load(f'{prefix}_X_batch_{batch_idx}.npy')\n",
    "    y_batch = np.load(f'{prefix}_y_batch_{batch_idx}.npy')\n",
    "    return tf.data.Dataset.from_tensor_slices  # Added batching and preprocessing to handle memory((X_batch, y_batch)).batch(32)\n",
    "# Apply batching\n",
    "train_dataset = train_dataset.batch(16)\n",
    "test_dataset = test_dataset.batch(16)\n"
   ]
  },
  {
   "cell_type": "code",
   "execution_count": 71,
   "id": "c34d585c-ed03-4fd4-a631-a218e9070b63",
   "metadata": {},
   "outputs": [
    {
     "name": "stdout",
     "output_type": "stream",
     "text": [
      "Epoch 1/50\n",
      "7/7 - 1s - 198ms/step - accuracy: 0.2000 - loss: 81.5688 - val_accuracy: 0.0600 - val_loss: 60.2292\n",
      "Epoch 2/50\n",
      "7/7 - 1s - 201ms/step - accuracy: 0.2400 - loss: 29.7670 - val_accuracy: 0.1600 - val_loss: 27.7066\n",
      "Epoch 3/50\n",
      "7/7 - 1s - 195ms/step - accuracy: 0.3500 - loss: 9.0744 - val_accuracy: 0.0800 - val_loss: 12.5617\n",
      "Epoch 4/50\n",
      "7/7 - 1s - 201ms/step - accuracy: 0.5200 - loss: 2.1103 - val_accuracy: 0.1400 - val_loss: 6.7957\n",
      "Epoch 5/50\n",
      "7/7 - 1s - 208ms/step - accuracy: 0.6200 - loss: 1.1170 - val_accuracy: 0.2000 - val_loss: 6.0861\n",
      "Epoch 6/50\n",
      "7/7 - 1s - 199ms/step - accuracy: 0.7500 - loss: 0.8948 - val_accuracy: 0.1800 - val_loss: 6.1467\n",
      "Epoch 7/50\n",
      "7/7 - 1s - 192ms/step - accuracy: 0.8300 - loss: 0.7302 - val_accuracy: 0.1800 - val_loss: 6.5070\n",
      "Epoch 8/50\n",
      "7/7 - 1s - 201ms/step - accuracy: 0.9000 - loss: 0.5184 - val_accuracy: 0.2200 - val_loss: 6.8577\n",
      "Epoch 9/50\n",
      "7/7 - 1s - 192ms/step - accuracy: 0.9500 - loss: 0.2796 - val_accuracy: 0.1600 - val_loss: 7.0135\n",
      "Epoch 10/50\n",
      "7/7 - 1s - 192ms/step - accuracy: 0.9700 - loss: 0.1905 - val_accuracy: 0.2600 - val_loss: 6.8843\n",
      "Epoch 11/50\n",
      "7/7 - 1s - 197ms/step - accuracy: 0.9800 - loss: 0.1372 - val_accuracy: 0.2400 - val_loss: 6.9318\n",
      "Epoch 12/50\n",
      "7/7 - 3s - 370ms/step - accuracy: 0.9800 - loss: 0.1011 - val_accuracy: 0.1800 - val_loss: 7.3722\n",
      "Epoch 13/50\n",
      "7/7 - 1s - 195ms/step - accuracy: 1.0000 - loss: 0.0574 - val_accuracy: 0.1200 - val_loss: 8.0785\n",
      "Epoch 14/50\n",
      "7/7 - 1s - 193ms/step - accuracy: 1.0000 - loss: 0.0302 - val_accuracy: 0.1400 - val_loss: 8.3763\n",
      "Epoch 15/50\n",
      "7/7 - 1s - 196ms/step - accuracy: 1.0000 - loss: 0.0191 - val_accuracy: 0.1200 - val_loss: 8.7844\n",
      "Epoch 16/50\n",
      "7/7 - 1s - 195ms/step - accuracy: 1.0000 - loss: 0.0120 - val_accuracy: 0.1400 - val_loss: 8.9446\n",
      "Epoch 17/50\n",
      "7/7 - 1s - 193ms/step - accuracy: 1.0000 - loss: 0.0079 - val_accuracy: 0.1200 - val_loss: 8.9336\n",
      "Epoch 18/50\n",
      "7/7 - 1s - 197ms/step - accuracy: 1.0000 - loss: 0.0059 - val_accuracy: 0.1200 - val_loss: 8.9338\n",
      "Epoch 19/50\n",
      "7/7 - 1s - 195ms/step - accuracy: 1.0000 - loss: 0.0047 - val_accuracy: 0.1200 - val_loss: 8.9753\n",
      "Epoch 20/50\n",
      "7/7 - 1s - 198ms/step - accuracy: 1.0000 - loss: 0.0039 - val_accuracy: 0.1200 - val_loss: 9.0276\n",
      "Epoch 21/50\n",
      "7/7 - 1s - 201ms/step - accuracy: 1.0000 - loss: 0.0034 - val_accuracy: 0.1200 - val_loss: 9.0729\n",
      "Epoch 22/50\n",
      "7/7 - 1s - 194ms/step - accuracy: 1.0000 - loss: 0.0030 - val_accuracy: 0.1200 - val_loss: 9.1073\n",
      "Epoch 23/50\n",
      "7/7 - 1s - 198ms/step - accuracy: 1.0000 - loss: 0.0027 - val_accuracy: 0.1200 - val_loss: 9.1340\n",
      "Epoch 24/50\n",
      "7/7 - 1s - 199ms/step - accuracy: 1.0000 - loss: 0.0025 - val_accuracy: 0.1200 - val_loss: 9.1571\n",
      "Epoch 25/50\n",
      "7/7 - 1s - 195ms/step - accuracy: 1.0000 - loss: 0.0023 - val_accuracy: 0.1200 - val_loss: 9.1783\n",
      "Epoch 26/50\n",
      "7/7 - 1s - 193ms/step - accuracy: 1.0000 - loss: 0.0021 - val_accuracy: 0.1200 - val_loss: 9.1978\n",
      "Epoch 27/50\n",
      "7/7 - 1s - 196ms/step - accuracy: 1.0000 - loss: 0.0020 - val_accuracy: 0.1000 - val_loss: 9.2157\n",
      "Epoch 28/50\n",
      "7/7 - 1s - 198ms/step - accuracy: 1.0000 - loss: 0.0018 - val_accuracy: 0.1000 - val_loss: 9.2330\n",
      "Epoch 29/50\n",
      "7/7 - 1s - 197ms/step - accuracy: 1.0000 - loss: 0.0017 - val_accuracy: 0.1000 - val_loss: 9.2506\n",
      "Epoch 30/50\n",
      "7/7 - 1s - 199ms/step - accuracy: 1.0000 - loss: 0.0016 - val_accuracy: 0.1000 - val_loss: 9.2688\n",
      "Epoch 31/50\n",
      "7/7 - 1s - 197ms/step - accuracy: 1.0000 - loss: 0.0015 - val_accuracy: 0.1000 - val_loss: 9.2874\n",
      "Epoch 32/50\n",
      "7/7 - 1s - 196ms/step - accuracy: 1.0000 - loss: 0.0014 - val_accuracy: 0.1000 - val_loss: 9.3061\n",
      "Epoch 33/50\n",
      "7/7 - 1s - 193ms/step - accuracy: 1.0000 - loss: 0.0014 - val_accuracy: 0.1000 - val_loss: 9.3243\n",
      "Epoch 34/50\n",
      "7/7 - 1s - 201ms/step - accuracy: 1.0000 - loss: 0.0013 - val_accuracy: 0.1000 - val_loss: 9.3421\n",
      "Epoch 35/50\n",
      "7/7 - 1s - 199ms/step - accuracy: 1.0000 - loss: 0.0012 - val_accuracy: 0.1000 - val_loss: 9.3595\n",
      "Epoch 36/50\n",
      "7/7 - 1s - 192ms/step - accuracy: 1.0000 - loss: 0.0012 - val_accuracy: 0.1000 - val_loss: 9.3766\n",
      "Epoch 37/50\n",
      "7/7 - 1s - 197ms/step - accuracy: 1.0000 - loss: 0.0011 - val_accuracy: 0.1000 - val_loss: 9.3933\n",
      "Epoch 38/50\n",
      "7/7 - 3s - 374ms/step - accuracy: 1.0000 - loss: 0.0011 - val_accuracy: 0.1000 - val_loss: 9.4097\n",
      "Epoch 39/50\n",
      "7/7 - 1s - 194ms/step - accuracy: 1.0000 - loss: 0.0010 - val_accuracy: 0.1200 - val_loss: 9.4258\n",
      "Epoch 40/50\n",
      "7/7 - 1s - 196ms/step - accuracy: 1.0000 - loss: 9.6427e-04 - val_accuracy: 0.1200 - val_loss: 9.4416\n",
      "Epoch 41/50\n",
      "7/7 - 1s - 195ms/step - accuracy: 1.0000 - loss: 9.2324e-04 - val_accuracy: 0.1200 - val_loss: 9.4571\n",
      "Epoch 42/50\n",
      "7/7 - 1s - 194ms/step - accuracy: 1.0000 - loss: 8.8489e-04 - val_accuracy: 0.1200 - val_loss: 9.4722\n",
      "Epoch 43/50\n",
      "7/7 - 1s - 196ms/step - accuracy: 1.0000 - loss: 8.4900e-04 - val_accuracy: 0.1200 - val_loss: 9.4870\n",
      "Epoch 44/50\n",
      "7/7 - 1s - 193ms/step - accuracy: 1.0000 - loss: 8.1538e-04 - val_accuracy: 0.1200 - val_loss: 9.5014\n",
      "Epoch 45/50\n",
      "7/7 - 1s - 195ms/step - accuracy: 1.0000 - loss: 7.8382e-04 - val_accuracy: 0.1200 - val_loss: 9.5155\n",
      "Epoch 46/50\n",
      "7/7 - 1s - 191ms/step - accuracy: 1.0000 - loss: 7.5415e-04 - val_accuracy: 0.1200 - val_loss: 9.5292\n",
      "Epoch 47/50\n",
      "7/7 - 1s - 195ms/step - accuracy: 1.0000 - loss: 7.2625e-04 - val_accuracy: 0.1200 - val_loss: 9.5425\n",
      "Epoch 48/50\n",
      "7/7 - 1s - 203ms/step - accuracy: 1.0000 - loss: 6.9998e-04 - val_accuracy: 0.1200 - val_loss: 9.5554\n",
      "Epoch 49/50\n",
      "7/7 - 1s - 199ms/step - accuracy: 1.0000 - loss: 6.7519e-04 - val_accuracy: 0.1200 - val_loss: 9.5679\n",
      "Epoch 50/50\n",
      "7/7 - 1s - 197ms/step - accuracy: 1.0000 - loss: 6.5177e-04 - val_accuracy: 0.1200 - val_loss: 9.5801\n"
     ]
    }
   ],
   "source": [
    "history = model.fit(\n",
    "    small_train_dataset,\n",
    "    epochs=50,\n",
    "    validation_data=small_test_dataset,\n",
    "    verbose=2\n",
    ")"
   ]
  },
  {
   "cell_type": "code",
   "execution_count": 92,
   "id": "62b8006f-6dfa-4ffb-8dca-85757f03c311",
   "metadata": {},
   "outputs": [
    {
     "name": "stdout",
     "output_type": "stream",
     "text": [
      "\u001b[1m1/1\u001b[0m \u001b[32m━━━━━━━━━━━━━━━━━━━━\u001b[0m\u001b[37m\u001b[0m \u001b[1m0s\u001b[0m 185ms/step\n"
     ]
    },
    {
     "name": "stderr",
     "output_type": "stream",
     "text": [
      "Registered model 'ImageClassificationModel' already exists. Creating a new version of this model...\n",
      "Created version '2' of model 'ImageClassificationModel'.\n"
     ]
    }
   ],
   "source": [
    "import mlflow\n",
    "import mlflow.keras\n",
    "from mlflow.models.signature import infer_signature\n",
    "\n",
    "# Start an MLflow run\n",
    "with mlflow.start_run():\n",
    "    mlflow.log_param(\"epochs\", 1)\n",
    "    mlflow.log_param(\"batch_size\", 64)\n",
    "    mlflow.log_param(\"optimizer\", \"adam\")\n",
    "    \n",
    "    test_loss, test_accuracy = model.evaluate(X_test, y_test, verbose=0)\n",
    "    mlflow.log_metric(\"test_loss\", test_loss)\n",
    "    mlflow.log_metric(\"test_accuracy\", test_accuracy)\n",
    "\n",
    "    sample_input = X_test[:5]\n",
    "    predictions = model.predict(sample_input)\n",
    "    signature = infer_signature(sample_input, predictions)\n",
    "\n",
    "    mlflow.keras.log_model(\n",
    "        model,\n",
    "        artifact_path=\"model\",\n",
    "        registered_model_name=\"ImageClassificationModel\",\n",
    "        signature=signature \n",
    "    )"
   ]
  },
  {
   "cell_type": "code",
   "execution_count": 100,
   "id": "16b99eeb-93e9-40db-9312-c694b16cf628",
   "metadata": {},
   "outputs": [],
   "source": [
    "model.save(\"saved_model.keras\")"
   ]
  },
  {
   "cell_type": "code",
   "execution_count": null,
   "id": "1f5b53d6-78a7-45d4-a22c-24ea8c503f62",
   "metadata": {},
   "outputs": [],
   "source": []
  }
 ],
 "metadata": {
  "kernelspec": {
   "display_name": "Python 3 (ipykernel)",
   "language": "python",
   "name": "python3"
  },
  "language_info": {
   "codemirror_mode": {
    "name": "ipython",
    "version": 3
   },
   "file_extension": ".py",
   "mimetype": "text/x-python",
   "name": "python",
   "nbconvert_exporter": "python",
   "pygments_lexer": "ipython3",
   "version": "3.12.7"
  }
 },
 "nbformat": 4,
 "nbformat_minor": 5
}
